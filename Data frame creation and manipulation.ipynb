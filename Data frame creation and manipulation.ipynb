{
 "cells": [
  {
   "cell_type": "markdown",
   "id": "16de777c",
   "metadata": {},
   "source": [
    "#### Author : Balaji Kartheek\n",
    "### In this Notebook I'll show how to create a DataFrame using Pandas Library and how to manipulate and retrive the data according to specified statements"
   ]
  },
  {
   "cell_type": "code",
   "execution_count": 1,
   "id": "afd68420",
   "metadata": {},
   "outputs": [],
   "source": [
    "# importing the libraries\n",
    "import pandas as pd\n",
    "import numpy as np"
   ]
  },
  {
   "cell_type": "markdown",
   "id": "caaf2726",
   "metadata": {},
   "source": [
    "#### 1.\tCreate a data frame with details of 10 students and columns as Roll Number, Name, Gender, Marks1, Marks2, Marks3."
   ]
  },
  {
   "cell_type": "markdown",
   "id": "964a936e",
   "metadata": {},
   "source": [
    "#### creating the rows for the DataFrame using dictionary"
   ]
  },
  {
   "cell_type": "code",
   "execution_count": 2,
   "id": "4fe104d9",
   "metadata": {},
   "outputs": [],
   "source": [
    "# Roll Number, Name, Gender, Marks1, Marks2, Marks3. --> these are the keys and their values are taken randomly\n",
    "df=pd.DataFrame(\n",
    "    {\n",
    "             \"Roll Number\":[1,2,3,4,5,6,7,8,9,10],\n",
    "             \"Name\":[\"balaji\",\"kartheek\",\"nisha\",\"poorna\",\"surya\",\"ravi\",\"venkat\",\"thanuja\",\"bantu\",\"aarya\"],\n",
    "             \"Gender\":['M','M','F','M','M','M','M','F','M','M'],\n",
    "             \"Marks1\":[98,99,56,78,56,48,97,89,69,100],\n",
    "             \"Marks2\":[91,99,46,98,36,98,87,79,65,80],\n",
    "             \"Marks3\":[88,91,89,71,88,99,100,68,87,90]\n",
    "    })"
   ]
  },
  {
   "cell_type": "code",
   "execution_count": 3,
   "id": "29e65a7a",
   "metadata": {},
   "outputs": [
    {
     "data": {
      "text/html": [
       "<div>\n",
       "<style scoped>\n",
       "    .dataframe tbody tr th:only-of-type {\n",
       "        vertical-align: middle;\n",
       "    }\n",
       "\n",
       "    .dataframe tbody tr th {\n",
       "        vertical-align: top;\n",
       "    }\n",
       "\n",
       "    .dataframe thead th {\n",
       "        text-align: right;\n",
       "    }\n",
       "</style>\n",
       "<table border=\"1\" class=\"dataframe\">\n",
       "  <thead>\n",
       "    <tr style=\"text-align: right;\">\n",
       "      <th></th>\n",
       "      <th>Roll Number</th>\n",
       "      <th>Name</th>\n",
       "      <th>Gender</th>\n",
       "      <th>Marks1</th>\n",
       "      <th>Marks2</th>\n",
       "      <th>Marks3</th>\n",
       "    </tr>\n",
       "  </thead>\n",
       "  <tbody>\n",
       "    <tr>\n",
       "      <th>0</th>\n",
       "      <td>1</td>\n",
       "      <td>balaji</td>\n",
       "      <td>M</td>\n",
       "      <td>98</td>\n",
       "      <td>91</td>\n",
       "      <td>88</td>\n",
       "    </tr>\n",
       "    <tr>\n",
       "      <th>1</th>\n",
       "      <td>2</td>\n",
       "      <td>kartheek</td>\n",
       "      <td>M</td>\n",
       "      <td>99</td>\n",
       "      <td>99</td>\n",
       "      <td>91</td>\n",
       "    </tr>\n",
       "    <tr>\n",
       "      <th>2</th>\n",
       "      <td>3</td>\n",
       "      <td>nisha</td>\n",
       "      <td>F</td>\n",
       "      <td>56</td>\n",
       "      <td>46</td>\n",
       "      <td>89</td>\n",
       "    </tr>\n",
       "    <tr>\n",
       "      <th>3</th>\n",
       "      <td>4</td>\n",
       "      <td>poorna</td>\n",
       "      <td>M</td>\n",
       "      <td>78</td>\n",
       "      <td>98</td>\n",
       "      <td>71</td>\n",
       "    </tr>\n",
       "    <tr>\n",
       "      <th>4</th>\n",
       "      <td>5</td>\n",
       "      <td>surya</td>\n",
       "      <td>M</td>\n",
       "      <td>56</td>\n",
       "      <td>36</td>\n",
       "      <td>88</td>\n",
       "    </tr>\n",
       "    <tr>\n",
       "      <th>5</th>\n",
       "      <td>6</td>\n",
       "      <td>ravi</td>\n",
       "      <td>M</td>\n",
       "      <td>48</td>\n",
       "      <td>98</td>\n",
       "      <td>99</td>\n",
       "    </tr>\n",
       "    <tr>\n",
       "      <th>6</th>\n",
       "      <td>7</td>\n",
       "      <td>venkat</td>\n",
       "      <td>M</td>\n",
       "      <td>97</td>\n",
       "      <td>87</td>\n",
       "      <td>100</td>\n",
       "    </tr>\n",
       "    <tr>\n",
       "      <th>7</th>\n",
       "      <td>8</td>\n",
       "      <td>thanuja</td>\n",
       "      <td>F</td>\n",
       "      <td>89</td>\n",
       "      <td>79</td>\n",
       "      <td>68</td>\n",
       "    </tr>\n",
       "    <tr>\n",
       "      <th>8</th>\n",
       "      <td>9</td>\n",
       "      <td>bantu</td>\n",
       "      <td>M</td>\n",
       "      <td>69</td>\n",
       "      <td>65</td>\n",
       "      <td>87</td>\n",
       "    </tr>\n",
       "    <tr>\n",
       "      <th>9</th>\n",
       "      <td>10</td>\n",
       "      <td>aarya</td>\n",
       "      <td>M</td>\n",
       "      <td>100</td>\n",
       "      <td>80</td>\n",
       "      <td>90</td>\n",
       "    </tr>\n",
       "  </tbody>\n",
       "</table>\n",
       "</div>"
      ],
      "text/plain": [
       "   Roll Number      Name Gender  Marks1  Marks2  Marks3\n",
       "0            1    balaji      M      98      91      88\n",
       "1            2  kartheek      M      99      99      91\n",
       "2            3     nisha      F      56      46      89\n",
       "3            4    poorna      M      78      98      71\n",
       "4            5     surya      M      56      36      88\n",
       "5            6      ravi      M      48      98      99\n",
       "6            7    venkat      M      97      87     100\n",
       "7            8   thanuja      F      89      79      68\n",
       "8            9     bantu      M      69      65      87\n",
       "9           10     aarya      M     100      80      90"
      ]
     },
     "execution_count": 3,
     "metadata": {},
     "output_type": "execute_result"
    }
   ],
   "source": [
    "df"
   ]
  },
  {
   "cell_type": "markdown",
   "id": "c87095c4",
   "metadata": {},
   "source": [
    "### Below is the required DataFrame "
   ]
  },
  {
   "cell_type": "code",
   "execution_count": 4,
   "id": "d1061b20",
   "metadata": {},
   "outputs": [
    {
     "data": {
      "text/html": [
       "<div>\n",
       "<style scoped>\n",
       "    .dataframe tbody tr th:only-of-type {\n",
       "        vertical-align: middle;\n",
       "    }\n",
       "\n",
       "    .dataframe tbody tr th {\n",
       "        vertical-align: top;\n",
       "    }\n",
       "\n",
       "    .dataframe thead th {\n",
       "        text-align: right;\n",
       "    }\n",
       "</style>\n",
       "<table border=\"1\" class=\"dataframe\">\n",
       "  <thead>\n",
       "    <tr style=\"text-align: right;\">\n",
       "      <th></th>\n",
       "      <th>Roll Number</th>\n",
       "      <th>Name</th>\n",
       "      <th>Gender</th>\n",
       "      <th>Marks1</th>\n",
       "      <th>Marks2</th>\n",
       "      <th>Marks3</th>\n",
       "    </tr>\n",
       "  </thead>\n",
       "  <tbody>\n",
       "    <tr>\n",
       "      <th>0</th>\n",
       "      <td>1</td>\n",
       "      <td>balaji</td>\n",
       "      <td>M</td>\n",
       "      <td>98</td>\n",
       "      <td>91</td>\n",
       "      <td>88</td>\n",
       "    </tr>\n",
       "    <tr>\n",
       "      <th>1</th>\n",
       "      <td>2</td>\n",
       "      <td>kartheek</td>\n",
       "      <td>M</td>\n",
       "      <td>99</td>\n",
       "      <td>99</td>\n",
       "      <td>91</td>\n",
       "    </tr>\n",
       "    <tr>\n",
       "      <th>2</th>\n",
       "      <td>3</td>\n",
       "      <td>nisha</td>\n",
       "      <td>F</td>\n",
       "      <td>56</td>\n",
       "      <td>46</td>\n",
       "      <td>89</td>\n",
       "    </tr>\n",
       "    <tr>\n",
       "      <th>3</th>\n",
       "      <td>4</td>\n",
       "      <td>poorna</td>\n",
       "      <td>M</td>\n",
       "      <td>78</td>\n",
       "      <td>98</td>\n",
       "      <td>71</td>\n",
       "    </tr>\n",
       "    <tr>\n",
       "      <th>4</th>\n",
       "      <td>5</td>\n",
       "      <td>surya</td>\n",
       "      <td>M</td>\n",
       "      <td>56</td>\n",
       "      <td>36</td>\n",
       "      <td>88</td>\n",
       "    </tr>\n",
       "  </tbody>\n",
       "</table>\n",
       "</div>"
      ],
      "text/plain": [
       "   Roll Number      Name Gender  Marks1  Marks2  Marks3\n",
       "0            1    balaji      M      98      91      88\n",
       "1            2  kartheek      M      99      99      91\n",
       "2            3     nisha      F      56      46      89\n",
       "3            4    poorna      M      78      98      71\n",
       "4            5     surya      M      56      36      88"
      ]
     },
     "execution_count": 4,
     "metadata": {},
     "output_type": "execute_result"
    }
   ],
   "source": [
    "df.head()   # using head() function (to generate top 5 rows in the DataFrame)"
   ]
  },
  {
   "cell_type": "code",
   "execution_count": 5,
   "id": "6df4fb45",
   "metadata": {},
   "outputs": [
    {
     "data": {
      "text/html": [
       "<div>\n",
       "<style scoped>\n",
       "    .dataframe tbody tr th:only-of-type {\n",
       "        vertical-align: middle;\n",
       "    }\n",
       "\n",
       "    .dataframe tbody tr th {\n",
       "        vertical-align: top;\n",
       "    }\n",
       "\n",
       "    .dataframe thead th {\n",
       "        text-align: right;\n",
       "    }\n",
       "</style>\n",
       "<table border=\"1\" class=\"dataframe\">\n",
       "  <thead>\n",
       "    <tr style=\"text-align: right;\">\n",
       "      <th></th>\n",
       "      <th>Roll Number</th>\n",
       "      <th>Name</th>\n",
       "      <th>Gender</th>\n",
       "      <th>Marks1</th>\n",
       "      <th>Marks2</th>\n",
       "      <th>Marks3</th>\n",
       "    </tr>\n",
       "  </thead>\n",
       "  <tbody>\n",
       "    <tr>\n",
       "      <th>5</th>\n",
       "      <td>6</td>\n",
       "      <td>ravi</td>\n",
       "      <td>M</td>\n",
       "      <td>48</td>\n",
       "      <td>98</td>\n",
       "      <td>99</td>\n",
       "    </tr>\n",
       "    <tr>\n",
       "      <th>6</th>\n",
       "      <td>7</td>\n",
       "      <td>venkat</td>\n",
       "      <td>M</td>\n",
       "      <td>97</td>\n",
       "      <td>87</td>\n",
       "      <td>100</td>\n",
       "    </tr>\n",
       "    <tr>\n",
       "      <th>7</th>\n",
       "      <td>8</td>\n",
       "      <td>thanuja</td>\n",
       "      <td>F</td>\n",
       "      <td>89</td>\n",
       "      <td>79</td>\n",
       "      <td>68</td>\n",
       "    </tr>\n",
       "    <tr>\n",
       "      <th>8</th>\n",
       "      <td>9</td>\n",
       "      <td>bantu</td>\n",
       "      <td>M</td>\n",
       "      <td>69</td>\n",
       "      <td>65</td>\n",
       "      <td>87</td>\n",
       "    </tr>\n",
       "    <tr>\n",
       "      <th>9</th>\n",
       "      <td>10</td>\n",
       "      <td>aarya</td>\n",
       "      <td>M</td>\n",
       "      <td>100</td>\n",
       "      <td>80</td>\n",
       "      <td>90</td>\n",
       "    </tr>\n",
       "  </tbody>\n",
       "</table>\n",
       "</div>"
      ],
      "text/plain": [
       "   Roll Number     Name Gender  Marks1  Marks2  Marks3\n",
       "5            6     ravi      M      48      98      99\n",
       "6            7   venkat      M      97      87     100\n",
       "7            8  thanuja      F      89      79      68\n",
       "8            9    bantu      M      69      65      87\n",
       "9           10    aarya      M     100      80      90"
      ]
     },
     "execution_count": 5,
     "metadata": {},
     "output_type": "execute_result"
    }
   ],
   "source": [
    "df.tail()   # using tail() function to retrive the bottom 5 rows in the DataFrame"
   ]
  },
  {
   "cell_type": "code",
   "execution_count": 6,
   "id": "02b6c45c",
   "metadata": {},
   "outputs": [
    {
     "name": "stdout",
     "output_type": "stream",
     "text": [
      "<class 'pandas.core.frame.DataFrame'>\n",
      "RangeIndex: 10 entries, 0 to 9\n",
      "Data columns (total 6 columns):\n",
      " #   Column       Non-Null Count  Dtype \n",
      "---  ------       --------------  ----- \n",
      " 0   Roll Number  10 non-null     int64 \n",
      " 1   Name         10 non-null     object\n",
      " 2   Gender       10 non-null     object\n",
      " 3   Marks1       10 non-null     int64 \n",
      " 4   Marks2       10 non-null     int64 \n",
      " 5   Marks3       10 non-null     int64 \n",
      "dtypes: int64(4), object(2)\n",
      "memory usage: 608.0+ bytes\n"
     ]
    }
   ],
   "source": [
    "df.info()    # description of the data"
   ]
  },
  {
   "cell_type": "markdown",
   "id": "aaa407da",
   "metadata": {},
   "source": [
    "#### 2.\tCreate a new column with total marks"
   ]
  },
  {
   "cell_type": "code",
   "execution_count": 7,
   "id": "46a8afd5",
   "metadata": {},
   "outputs": [],
   "source": [
    "df[\"Total Marks\"]=[277,289,191,247,180,245,284,236,221,270]"
   ]
  },
  {
   "cell_type": "code",
   "execution_count": 8,
   "id": "2624071b",
   "metadata": {
    "scrolled": true
   },
   "outputs": [
    {
     "data": {
      "text/html": [
       "<div>\n",
       "<style scoped>\n",
       "    .dataframe tbody tr th:only-of-type {\n",
       "        vertical-align: middle;\n",
       "    }\n",
       "\n",
       "    .dataframe tbody tr th {\n",
       "        vertical-align: top;\n",
       "    }\n",
       "\n",
       "    .dataframe thead th {\n",
       "        text-align: right;\n",
       "    }\n",
       "</style>\n",
       "<table border=\"1\" class=\"dataframe\">\n",
       "  <thead>\n",
       "    <tr style=\"text-align: right;\">\n",
       "      <th></th>\n",
       "      <th>Roll Number</th>\n",
       "      <th>Name</th>\n",
       "      <th>Gender</th>\n",
       "      <th>Marks1</th>\n",
       "      <th>Marks2</th>\n",
       "      <th>Marks3</th>\n",
       "      <th>Total Marks</th>\n",
       "    </tr>\n",
       "  </thead>\n",
       "  <tbody>\n",
       "    <tr>\n",
       "      <th>0</th>\n",
       "      <td>1</td>\n",
       "      <td>balaji</td>\n",
       "      <td>M</td>\n",
       "      <td>98</td>\n",
       "      <td>91</td>\n",
       "      <td>88</td>\n",
       "      <td>277</td>\n",
       "    </tr>\n",
       "    <tr>\n",
       "      <th>1</th>\n",
       "      <td>2</td>\n",
       "      <td>kartheek</td>\n",
       "      <td>M</td>\n",
       "      <td>99</td>\n",
       "      <td>99</td>\n",
       "      <td>91</td>\n",
       "      <td>289</td>\n",
       "    </tr>\n",
       "    <tr>\n",
       "      <th>2</th>\n",
       "      <td>3</td>\n",
       "      <td>nisha</td>\n",
       "      <td>F</td>\n",
       "      <td>56</td>\n",
       "      <td>46</td>\n",
       "      <td>89</td>\n",
       "      <td>191</td>\n",
       "    </tr>\n",
       "    <tr>\n",
       "      <th>3</th>\n",
       "      <td>4</td>\n",
       "      <td>poorna</td>\n",
       "      <td>M</td>\n",
       "      <td>78</td>\n",
       "      <td>98</td>\n",
       "      <td>71</td>\n",
       "      <td>247</td>\n",
       "    </tr>\n",
       "    <tr>\n",
       "      <th>4</th>\n",
       "      <td>5</td>\n",
       "      <td>surya</td>\n",
       "      <td>M</td>\n",
       "      <td>56</td>\n",
       "      <td>36</td>\n",
       "      <td>88</td>\n",
       "      <td>180</td>\n",
       "    </tr>\n",
       "    <tr>\n",
       "      <th>5</th>\n",
       "      <td>6</td>\n",
       "      <td>ravi</td>\n",
       "      <td>M</td>\n",
       "      <td>48</td>\n",
       "      <td>98</td>\n",
       "      <td>99</td>\n",
       "      <td>245</td>\n",
       "    </tr>\n",
       "    <tr>\n",
       "      <th>6</th>\n",
       "      <td>7</td>\n",
       "      <td>venkat</td>\n",
       "      <td>M</td>\n",
       "      <td>97</td>\n",
       "      <td>87</td>\n",
       "      <td>100</td>\n",
       "      <td>284</td>\n",
       "    </tr>\n",
       "    <tr>\n",
       "      <th>7</th>\n",
       "      <td>8</td>\n",
       "      <td>thanuja</td>\n",
       "      <td>F</td>\n",
       "      <td>89</td>\n",
       "      <td>79</td>\n",
       "      <td>68</td>\n",
       "      <td>236</td>\n",
       "    </tr>\n",
       "    <tr>\n",
       "      <th>8</th>\n",
       "      <td>9</td>\n",
       "      <td>bantu</td>\n",
       "      <td>M</td>\n",
       "      <td>69</td>\n",
       "      <td>65</td>\n",
       "      <td>87</td>\n",
       "      <td>221</td>\n",
       "    </tr>\n",
       "    <tr>\n",
       "      <th>9</th>\n",
       "      <td>10</td>\n",
       "      <td>aarya</td>\n",
       "      <td>M</td>\n",
       "      <td>100</td>\n",
       "      <td>80</td>\n",
       "      <td>90</td>\n",
       "      <td>270</td>\n",
       "    </tr>\n",
       "  </tbody>\n",
       "</table>\n",
       "</div>"
      ],
      "text/plain": [
       "   Roll Number      Name Gender  Marks1  Marks2  Marks3  Total Marks\n",
       "0            1    balaji      M      98      91      88          277\n",
       "1            2  kartheek      M      99      99      91          289\n",
       "2            3     nisha      F      56      46      89          191\n",
       "3            4    poorna      M      78      98      71          247\n",
       "4            5     surya      M      56      36      88          180\n",
       "5            6      ravi      M      48      98      99          245\n",
       "6            7    venkat      M      97      87     100          284\n",
       "7            8   thanuja      F      89      79      68          236\n",
       "8            9     bantu      M      69      65      87          221\n",
       "9           10     aarya      M     100      80      90          270"
      ]
     },
     "execution_count": 8,
     "metadata": {},
     "output_type": "execute_result"
    }
   ],
   "source": [
    "df"
   ]
  },
  {
   "cell_type": "code",
   "execution_count": 9,
   "id": "9970d36b",
   "metadata": {},
   "outputs": [],
   "source": [
    "lowest_marks1=df[\"Marks1\"].min()    #.min() function used to get the minimum value in the particular attribute"
   ]
  },
  {
   "cell_type": "code",
   "execution_count": 10,
   "id": "d9781266",
   "metadata": {},
   "outputs": [
    {
     "name": "stdout",
     "output_type": "stream",
     "text": [
      "Lowest marks in Marks1 of total students:  48\n"
     ]
    }
   ],
   "source": [
    "print(\"Lowest marks in Marks1 of total students: \",lowest_marks1)"
   ]
  },
  {
   "cell_type": "markdown",
   "id": "848fb001",
   "metadata": {},
   "source": [
    "### Lowest marks in Marks1 of total students:  48"
   ]
  },
  {
   "cell_type": "markdown",
   "id": "9a5cf784",
   "metadata": {},
   "source": [
    "#### 4.\tFind the Highest marks in Marks2"
   ]
  },
  {
   "cell_type": "code",
   "execution_count": 11,
   "id": "b43aa24a",
   "metadata": {},
   "outputs": [],
   "source": [
    "highest_marks2=df[\"Marks2\"].max()   #.max() function used to get the maximum value in the particular attribute"
   ]
  },
  {
   "cell_type": "code",
   "execution_count": 12,
   "id": "0d675572",
   "metadata": {},
   "outputs": [
    {
     "name": "stdout",
     "output_type": "stream",
     "text": [
      "the Highest marks in Marks2 of total students 99\n"
     ]
    }
   ],
   "source": [
    "print(\"the Highest marks in Marks2 of total students\",highest_marks2)"
   ]
  },
  {
   "cell_type": "markdown",
   "id": "ed119f3a",
   "metadata": {},
   "source": [
    "### the Highest marks in Marks2 of total students 99"
   ]
  },
  {
   "cell_type": "markdown",
   "id": "317eedf6",
   "metadata": {},
   "source": [
    "#### 5.\tFind the average marks in Marks3"
   ]
  },
  {
   "cell_type": "code",
   "execution_count": 13,
   "id": "73faee04",
   "metadata": {},
   "outputs": [],
   "source": [
    "average_marks3=df[\"Marks3\"].mean()   #.mean() function used to get the average value in the particular attribute"
   ]
  },
  {
   "cell_type": "code",
   "execution_count": 14,
   "id": "e75bfbd3",
   "metadata": {},
   "outputs": [
    {
     "name": "stdout",
     "output_type": "stream",
     "text": [
      "the average marks in Marks3 of total students:  87.1\n"
     ]
    }
   ],
   "source": [
    "print(\"the average marks in Marks3 of total students: \",average_marks3)"
   ]
  },
  {
   "cell_type": "markdown",
   "id": "e6b4a8b1",
   "metadata": {},
   "source": [
    "#### 6.\tFind student name with highest average"
   ]
  },
  {
   "cell_type": "code",
   "execution_count": 21,
   "id": "aa8b1427",
   "metadata": {},
   "outputs": [],
   "source": [
    "df['average_marks'] = df[\"Total Marks\"]/3\n"
   ]
  },
  {
   "cell_type": "code",
   "execution_count": 22,
   "id": "c4c1ab36",
   "metadata": {},
   "outputs": [
    {
     "data": {
      "text/html": [
       "<div>\n",
       "<style scoped>\n",
       "    .dataframe tbody tr th:only-of-type {\n",
       "        vertical-align: middle;\n",
       "    }\n",
       "\n",
       "    .dataframe tbody tr th {\n",
       "        vertical-align: top;\n",
       "    }\n",
       "\n",
       "    .dataframe thead th {\n",
       "        text-align: right;\n",
       "    }\n",
       "</style>\n",
       "<table border=\"1\" class=\"dataframe\">\n",
       "  <thead>\n",
       "    <tr style=\"text-align: right;\">\n",
       "      <th></th>\n",
       "      <th>Roll Number</th>\n",
       "      <th>Name</th>\n",
       "      <th>Gender</th>\n",
       "      <th>Marks1</th>\n",
       "      <th>Marks2</th>\n",
       "      <th>Marks3</th>\n",
       "      <th>Total Marks</th>\n",
       "      <th>average_marks</th>\n",
       "    </tr>\n",
       "  </thead>\n",
       "  <tbody>\n",
       "    <tr>\n",
       "      <th>0</th>\n",
       "      <td>1</td>\n",
       "      <td>balaji</td>\n",
       "      <td>M</td>\n",
       "      <td>98</td>\n",
       "      <td>91</td>\n",
       "      <td>88</td>\n",
       "      <td>277</td>\n",
       "      <td>92.333333</td>\n",
       "    </tr>\n",
       "    <tr>\n",
       "      <th>1</th>\n",
       "      <td>2</td>\n",
       "      <td>kartheek</td>\n",
       "      <td>M</td>\n",
       "      <td>99</td>\n",
       "      <td>99</td>\n",
       "      <td>91</td>\n",
       "      <td>289</td>\n",
       "      <td>96.333333</td>\n",
       "    </tr>\n",
       "    <tr>\n",
       "      <th>2</th>\n",
       "      <td>3</td>\n",
       "      <td>nisha</td>\n",
       "      <td>F</td>\n",
       "      <td>56</td>\n",
       "      <td>46</td>\n",
       "      <td>89</td>\n",
       "      <td>191</td>\n",
       "      <td>63.666667</td>\n",
       "    </tr>\n",
       "    <tr>\n",
       "      <th>3</th>\n",
       "      <td>4</td>\n",
       "      <td>poorna</td>\n",
       "      <td>M</td>\n",
       "      <td>78</td>\n",
       "      <td>98</td>\n",
       "      <td>71</td>\n",
       "      <td>247</td>\n",
       "      <td>82.333333</td>\n",
       "    </tr>\n",
       "    <tr>\n",
       "      <th>4</th>\n",
       "      <td>5</td>\n",
       "      <td>surya</td>\n",
       "      <td>M</td>\n",
       "      <td>56</td>\n",
       "      <td>36</td>\n",
       "      <td>88</td>\n",
       "      <td>180</td>\n",
       "      <td>60.000000</td>\n",
       "    </tr>\n",
       "    <tr>\n",
       "      <th>5</th>\n",
       "      <td>6</td>\n",
       "      <td>ravi</td>\n",
       "      <td>M</td>\n",
       "      <td>48</td>\n",
       "      <td>98</td>\n",
       "      <td>99</td>\n",
       "      <td>245</td>\n",
       "      <td>81.666667</td>\n",
       "    </tr>\n",
       "    <tr>\n",
       "      <th>6</th>\n",
       "      <td>7</td>\n",
       "      <td>venkat</td>\n",
       "      <td>M</td>\n",
       "      <td>97</td>\n",
       "      <td>87</td>\n",
       "      <td>100</td>\n",
       "      <td>284</td>\n",
       "      <td>94.666667</td>\n",
       "    </tr>\n",
       "    <tr>\n",
       "      <th>7</th>\n",
       "      <td>8</td>\n",
       "      <td>thanuja</td>\n",
       "      <td>F</td>\n",
       "      <td>89</td>\n",
       "      <td>79</td>\n",
       "      <td>68</td>\n",
       "      <td>236</td>\n",
       "      <td>78.666667</td>\n",
       "    </tr>\n",
       "    <tr>\n",
       "      <th>8</th>\n",
       "      <td>9</td>\n",
       "      <td>bantu</td>\n",
       "      <td>M</td>\n",
       "      <td>69</td>\n",
       "      <td>65</td>\n",
       "      <td>87</td>\n",
       "      <td>221</td>\n",
       "      <td>73.666667</td>\n",
       "    </tr>\n",
       "    <tr>\n",
       "      <th>9</th>\n",
       "      <td>10</td>\n",
       "      <td>aarya</td>\n",
       "      <td>M</td>\n",
       "      <td>100</td>\n",
       "      <td>80</td>\n",
       "      <td>90</td>\n",
       "      <td>270</td>\n",
       "      <td>90.000000</td>\n",
       "    </tr>\n",
       "  </tbody>\n",
       "</table>\n",
       "</div>"
      ],
      "text/plain": [
       "   Roll Number      Name Gender  Marks1  Marks2  Marks3  Total Marks  \\\n",
       "0            1    balaji      M      98      91      88          277   \n",
       "1            2  kartheek      M      99      99      91          289   \n",
       "2            3     nisha      F      56      46      89          191   \n",
       "3            4    poorna      M      78      98      71          247   \n",
       "4            5     surya      M      56      36      88          180   \n",
       "5            6      ravi      M      48      98      99          245   \n",
       "6            7    venkat      M      97      87     100          284   \n",
       "7            8   thanuja      F      89      79      68          236   \n",
       "8            9     bantu      M      69      65      87          221   \n",
       "9           10     aarya      M     100      80      90          270   \n",
       "\n",
       "   average_marks  \n",
       "0      92.333333  \n",
       "1      96.333333  \n",
       "2      63.666667  \n",
       "3      82.333333  \n",
       "4      60.000000  \n",
       "5      81.666667  \n",
       "6      94.666667  \n",
       "7      78.666667  \n",
       "8      73.666667  \n",
       "9      90.000000  "
      ]
     },
     "execution_count": 22,
     "metadata": {},
     "output_type": "execute_result"
    }
   ],
   "source": [
    "df"
   ]
  },
  {
   "cell_type": "code",
   "execution_count": 34,
   "id": "0a506448",
   "metadata": {},
   "outputs": [],
   "source": [
    "highest_average = df.average_marks.max()"
   ]
  },
  {
   "cell_type": "code",
   "execution_count": 35,
   "id": "ba88977c",
   "metadata": {},
   "outputs": [
    {
     "data": {
      "text/plain": [
       "96.33333333333333"
      ]
     },
     "execution_count": 35,
     "metadata": {},
     "output_type": "execute_result"
    }
   ],
   "source": [
    "highest_average"
   ]
  },
  {
   "cell_type": "code",
   "execution_count": 36,
   "id": "5d3fef38",
   "metadata": {},
   "outputs": [
    {
     "data": {
      "text/html": [
       "<div>\n",
       "<style scoped>\n",
       "    .dataframe tbody tr th:only-of-type {\n",
       "        vertical-align: middle;\n",
       "    }\n",
       "\n",
       "    .dataframe tbody tr th {\n",
       "        vertical-align: top;\n",
       "    }\n",
       "\n",
       "    .dataframe thead th {\n",
       "        text-align: right;\n",
       "    }\n",
       "</style>\n",
       "<table border=\"1\" class=\"dataframe\">\n",
       "  <thead>\n",
       "    <tr style=\"text-align: right;\">\n",
       "      <th></th>\n",
       "      <th>Roll Number</th>\n",
       "      <th>Name</th>\n",
       "      <th>Gender</th>\n",
       "      <th>Marks1</th>\n",
       "      <th>Marks2</th>\n",
       "      <th>Marks3</th>\n",
       "      <th>Total Marks</th>\n",
       "      <th>average_marks</th>\n",
       "    </tr>\n",
       "  </thead>\n",
       "  <tbody>\n",
       "    <tr>\n",
       "      <th>0</th>\n",
       "      <td>1</td>\n",
       "      <td>balaji</td>\n",
       "      <td>M</td>\n",
       "      <td>98</td>\n",
       "      <td>91</td>\n",
       "      <td>88</td>\n",
       "      <td>277</td>\n",
       "      <td>92.333333</td>\n",
       "    </tr>\n",
       "    <tr>\n",
       "      <th>1</th>\n",
       "      <td>2</td>\n",
       "      <td>kartheek</td>\n",
       "      <td>M</td>\n",
       "      <td>99</td>\n",
       "      <td>99</td>\n",
       "      <td>91</td>\n",
       "      <td>289</td>\n",
       "      <td>96.333333</td>\n",
       "    </tr>\n",
       "    <tr>\n",
       "      <th>2</th>\n",
       "      <td>3</td>\n",
       "      <td>nisha</td>\n",
       "      <td>F</td>\n",
       "      <td>56</td>\n",
       "      <td>46</td>\n",
       "      <td>89</td>\n",
       "      <td>191</td>\n",
       "      <td>63.666667</td>\n",
       "    </tr>\n",
       "    <tr>\n",
       "      <th>3</th>\n",
       "      <td>4</td>\n",
       "      <td>poorna</td>\n",
       "      <td>M</td>\n",
       "      <td>78</td>\n",
       "      <td>98</td>\n",
       "      <td>71</td>\n",
       "      <td>247</td>\n",
       "      <td>82.333333</td>\n",
       "    </tr>\n",
       "    <tr>\n",
       "      <th>4</th>\n",
       "      <td>5</td>\n",
       "      <td>surya</td>\n",
       "      <td>M</td>\n",
       "      <td>56</td>\n",
       "      <td>36</td>\n",
       "      <td>88</td>\n",
       "      <td>180</td>\n",
       "      <td>60.000000</td>\n",
       "    </tr>\n",
       "    <tr>\n",
       "      <th>5</th>\n",
       "      <td>6</td>\n",
       "      <td>ravi</td>\n",
       "      <td>M</td>\n",
       "      <td>48</td>\n",
       "      <td>98</td>\n",
       "      <td>99</td>\n",
       "      <td>245</td>\n",
       "      <td>81.666667</td>\n",
       "    </tr>\n",
       "    <tr>\n",
       "      <th>6</th>\n",
       "      <td>7</td>\n",
       "      <td>venkat</td>\n",
       "      <td>M</td>\n",
       "      <td>97</td>\n",
       "      <td>87</td>\n",
       "      <td>100</td>\n",
       "      <td>284</td>\n",
       "      <td>94.666667</td>\n",
       "    </tr>\n",
       "    <tr>\n",
       "      <th>7</th>\n",
       "      <td>8</td>\n",
       "      <td>thanuja</td>\n",
       "      <td>F</td>\n",
       "      <td>89</td>\n",
       "      <td>79</td>\n",
       "      <td>68</td>\n",
       "      <td>236</td>\n",
       "      <td>78.666667</td>\n",
       "    </tr>\n",
       "    <tr>\n",
       "      <th>8</th>\n",
       "      <td>9</td>\n",
       "      <td>bantu</td>\n",
       "      <td>M</td>\n",
       "      <td>69</td>\n",
       "      <td>65</td>\n",
       "      <td>87</td>\n",
       "      <td>221</td>\n",
       "      <td>73.666667</td>\n",
       "    </tr>\n",
       "    <tr>\n",
       "      <th>9</th>\n",
       "      <td>10</td>\n",
       "      <td>aarya</td>\n",
       "      <td>M</td>\n",
       "      <td>100</td>\n",
       "      <td>80</td>\n",
       "      <td>90</td>\n",
       "      <td>270</td>\n",
       "      <td>90.000000</td>\n",
       "    </tr>\n",
       "  </tbody>\n",
       "</table>\n",
       "</div>"
      ],
      "text/plain": [
       "   Roll Number      Name Gender  Marks1  Marks2  Marks3  Total Marks  \\\n",
       "0            1    balaji      M      98      91      88          277   \n",
       "1            2  kartheek      M      99      99      91          289   \n",
       "2            3     nisha      F      56      46      89          191   \n",
       "3            4    poorna      M      78      98      71          247   \n",
       "4            5     surya      M      56      36      88          180   \n",
       "5            6      ravi      M      48      98      99          245   \n",
       "6            7    venkat      M      97      87     100          284   \n",
       "7            8   thanuja      F      89      79      68          236   \n",
       "8            9     bantu      M      69      65      87          221   \n",
       "9           10     aarya      M     100      80      90          270   \n",
       "\n",
       "   average_marks  \n",
       "0      92.333333  \n",
       "1      96.333333  \n",
       "2      63.666667  \n",
       "3      82.333333  \n",
       "4      60.000000  \n",
       "5      81.666667  \n",
       "6      94.666667  \n",
       "7      78.666667  \n",
       "8      73.666667  \n",
       "9      90.000000  "
      ]
     },
     "execution_count": 36,
     "metadata": {},
     "output_type": "execute_result"
    }
   ],
   "source": [
    "df"
   ]
  },
  {
   "cell_type": "code",
   "execution_count": 37,
   "id": "3bc8e51e",
   "metadata": {},
   "outputs": [],
   "source": [
    "high_scorer = df['Name'][1]"
   ]
  },
  {
   "cell_type": "code",
   "execution_count": 38,
   "id": "41cde57f",
   "metadata": {},
   "outputs": [
    {
     "name": "stdout",
     "output_type": "stream",
     "text": [
      "student Name with highest score:  kartheek\n"
     ]
    }
   ],
   "source": [
    "print(\"student Name with highest score: \",high_scorer)"
   ]
  },
  {
   "cell_type": "markdown",
   "id": "eb2a6eec",
   "metadata": {},
   "source": [
    "#### 7.\tFind how many students failed in Marks2 (<40)"
   ]
  },
  {
   "cell_type": "code",
   "execution_count": 39,
   "id": "baeae6c3",
   "metadata": {},
   "outputs": [
    {
     "data": {
      "text/html": [
       "<div>\n",
       "<style scoped>\n",
       "    .dataframe tbody tr th:only-of-type {\n",
       "        vertical-align: middle;\n",
       "    }\n",
       "\n",
       "    .dataframe tbody tr th {\n",
       "        vertical-align: top;\n",
       "    }\n",
       "\n",
       "    .dataframe thead th {\n",
       "        text-align: right;\n",
       "    }\n",
       "</style>\n",
       "<table border=\"1\" class=\"dataframe\">\n",
       "  <thead>\n",
       "    <tr style=\"text-align: right;\">\n",
       "      <th></th>\n",
       "      <th>Roll Number</th>\n",
       "      <th>Name</th>\n",
       "      <th>Gender</th>\n",
       "      <th>Marks1</th>\n",
       "      <th>Marks2</th>\n",
       "      <th>Marks3</th>\n",
       "      <th>Total Marks</th>\n",
       "      <th>average_marks</th>\n",
       "    </tr>\n",
       "  </thead>\n",
       "  <tbody>\n",
       "    <tr>\n",
       "      <th>4</th>\n",
       "      <td>5</td>\n",
       "      <td>surya</td>\n",
       "      <td>M</td>\n",
       "      <td>56</td>\n",
       "      <td>36</td>\n",
       "      <td>88</td>\n",
       "      <td>180</td>\n",
       "      <td>60.0</td>\n",
       "    </tr>\n",
       "  </tbody>\n",
       "</table>\n",
       "</div>"
      ],
      "text/plain": [
       "   Roll Number   Name Gender  Marks1  Marks2  Marks3  Total Marks  \\\n",
       "4            5  surya      M      56      36      88          180   \n",
       "\n",
       "   average_marks  \n",
       "4           60.0  "
      ]
     },
     "execution_count": 39,
     "metadata": {},
     "output_type": "execute_result"
    }
   ],
   "source": [
    "failed_Marks2=df[df[\"Marks2\"]<40]\n",
    "failed_Marks2"
   ]
  },
  {
   "cell_type": "code",
   "execution_count": 40,
   "id": "375ad529",
   "metadata": {},
   "outputs": [
    {
     "name": "stdout",
     "output_type": "stream",
     "text": [
      "<class 'pandas.core.frame.DataFrame'>\n",
      "Int64Index: 1 entries, 4 to 4\n",
      "Data columns (total 8 columns):\n",
      " #   Column         Non-Null Count  Dtype  \n",
      "---  ------         --------------  -----  \n",
      " 0   Roll Number    1 non-null      int64  \n",
      " 1   Name           1 non-null      object \n",
      " 2   Gender         1 non-null      object \n",
      " 3   Marks1         1 non-null      int64  \n",
      " 4   Marks2         1 non-null      int64  \n",
      " 5   Marks3         1 non-null      int64  \n",
      " 6   Total Marks    1 non-null      int64  \n",
      " 7   average_marks  1 non-null      float64\n",
      "dtypes: float64(1), int64(5), object(2)\n",
      "memory usage: 72.0+ bytes\n"
     ]
    }
   ],
   "source": [
    "df[df[\"Marks2\"]<40].info()"
   ]
  },
  {
   "cell_type": "code",
   "execution_count": 41,
   "id": "55fbfc11",
   "metadata": {},
   "outputs": [
    {
     "name": "stdout",
     "output_type": "stream",
     "text": [
      "number of students failed in Marks2 is:  1  and his name is:  4    surya\n",
      "Name: Name, dtype: object\n"
     ]
    }
   ],
   "source": [
    "# since ther are only 1 entries in the info of df\n",
    "print(\"number of students failed in Marks2 is: \",failed_Marks2.shape[0],\" and his name is: \",failed_Marks2[\"Name\"])"
   ]
  },
  {
   "cell_type": "code",
   "execution_count": 42,
   "id": "e7e78e26",
   "metadata": {},
   "outputs": [],
   "source": [
    "# df.shape[0] returns the number of rows in the df DataFrame"
   ]
  },
  {
   "cell_type": "code",
   "execution_count": null,
   "id": "8e5ea4ed",
   "metadata": {},
   "outputs": [],
   "source": []
  }
 ],
 "metadata": {
  "kernelspec": {
   "display_name": "Python 3",
   "language": "python",
   "name": "python3"
  },
  "language_info": {
   "codemirror_mode": {
    "name": "ipython",
    "version": 3
   },
   "file_extension": ".py",
   "mimetype": "text/x-python",
   "name": "python",
   "nbconvert_exporter": "python",
   "pygments_lexer": "ipython3",
   "version": "3.8.8"
  }
 },
 "nbformat": 4,
 "nbformat_minor": 5
}
